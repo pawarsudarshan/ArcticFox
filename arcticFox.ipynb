{
  "cells": [
    {
      "cell_type": "code",
      "execution_count": null,
      "metadata": {
        "colab": {
          "base_uri": "https://localhost:8080/"
        },
        "id": "7q68ps9BFeRR",
        "outputId": "5b946e9c-716c-42ac-b268-8e2f6692cfa3"
      },
      "outputs": [],
      "source": [
        "pip install openpyxl"
      ]
    },
    {
      "cell_type": "code",
      "execution_count": null,
      "metadata": {
        "colab": {
          "base_uri": "https://localhost:8080/"
        },
        "id": "95Myrfc9L5nF",
        "outputId": "2ea628d2-068a-46a4-d3e9-20651aed8342"
      },
      "outputs": [],
      "source": [
        "import openpyxl\n",
        "\n",
        "def generate_excel(filename):\n",
        "    # Create a new Excel workbook and select the active worksheet\n",
        "    workbook = openpyxl.Workbook()\n",
        "    sheet = workbook.active\n",
        "    sheet.title = \"User Access\"\n",
        "\n",
        "    # Add column headers\n",
        "    sheet['A1'] = 'Username'\n",
        "    sheet['B1'] = 'AccessLevel'\n",
        "\n",
        "    # Sample data (feel free to modify or populate dynamically)\n",
        "    data = [\n",
        "        ('sudarshan.pawar', 'Admin'),\n",
        "        ('john.doe', 'User'),\n",
        "        ('jane.smith', 'Viewer'),\n",
        "        ('alice.wonder', 'User'),\n",
        "        ('bob.builder', 'Admin')\n",
        "    ]\n",
        "\n",
        "    # Write data to Excel sheet\n",
        "    for row_idx, (username, access_level) in enumerate(data, start=2):\n",
        "        sheet[f'A{row_idx}'] = username\n",
        "        sheet[f'B{row_idx}'] = access_level\n",
        "\n",
        "    # Save the Excel file\n",
        "    workbook.save(filename)\n",
        "    print(f\"Excel file '{filename}' generated successfully.\")\n",
        "\n",
        "# Specify the output filename\n",
        "output_filename = 'UserAccessLevels.xlsx'\n",
        "generate_excel(output_filename)\n"
      ]
    }
  ],
  "metadata": {
    "colab": {
      "provenance": []
    },
    "kernelspec": {
      "display_name": "Python 3",
      "name": "python3"
    },
    "language_info": {
      "name": "python"
    }
  },
  "nbformat": 4,
  "nbformat_minor": 0
}
